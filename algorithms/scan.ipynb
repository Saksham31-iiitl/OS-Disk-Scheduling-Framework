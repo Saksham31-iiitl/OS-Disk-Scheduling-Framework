{
 "cells": [
  {
   "cell_type": "code",
   "execution_count": 1,
   "id": "1ba9bd5f",
   "metadata": {},
   "outputs": [],
   "source": [
    "# scan.ipynb\n",
    "\n",
    "def scan(requests, initial_position, disk_size, direction='left'):\n",
    "    requests.sort()\n",
    "    seek_sequence = []\n",
    "    total_seek_time = 0\n",
    "    left = []\n",
    "    right = []\n",
    "\n",
    "    for request in requests:\n",
    "        if request < initial_position:\n",
    "            left.append(request)\n",
    "        elif request > initial_position:\n",
    "            right.append(request)\n",
    "\n",
    "    left.sort(reverse=True)\n",
    "    right.sort()\n",
    "\n",
    "    if direction == 'left':\n",
    "        seek_sequence.extend(left)\n",
    "        seek_sequence.append(0)\n",
    "        seek_sequence.extend(right)\n",
    "        total_seek_time = abs(initial_position - 0) + abs(0 - right[-1])\n",
    "    elif direction == 'right':\n",
    "        seek_sequence.extend(right)\n",
    "        seek_sequence.append(disk_size - 1)\n",
    "        seek_sequence.extend(left)\n",
    "        total_seek_time = abs(initial_position - (disk_size - 1)) + abs((disk_size - 1) - left[-1])\n",
    "\n",
    "    seek_sequence.insert(0, initial_position)\n",
    "    return seek_sequence, total_seek_time\n"
   ]
  }
 ],
 "metadata": {
  "kernelspec": {
   "display_name": "Python 3",
   "language": "python",
   "name": "python3"
  },
  "language_info": {
   "codemirror_mode": {
    "name": "ipython",
    "version": 3
   },
   "file_extension": ".py",
   "mimetype": "text/x-python",
   "name": "python",
   "nbconvert_exporter": "python",
   "pygments_lexer": "ipython3",
   "version": "3.10.0"
  }
 },
 "nbformat": 4,
 "nbformat_minor": 5
}
