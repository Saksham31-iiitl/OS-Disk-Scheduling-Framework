{
 "cells": [
  {
   "cell_type": "code",
   "execution_count": 3,
   "id": "73f9fb13",
   "metadata": {},
   "outputs": [],
   "source": [
    "# algorithms/cscan.py\n",
    "\n",
    "def cscan(requests, initial_position, disk_size):\n",
    "    \"\"\"\n",
    "    C-SCAN Disk Scheduling Algorithm\n",
    "    :param requests: List of I/O requests\n",
    "    :param initial_position: Initial position of the disk head\n",
    "    :param disk_size: Total size of the disk (maximum disk position)\n",
    "    :return: Seek sequence and total seek time\n",
    "    \"\"\"\n",
    "    requests = sorted(requests)\n",
    "    \n",
    "    # Split the requests into two parts: left of the initial position and right of the initial position\n",
    "    left = [r for r in requests if r < initial_position]\n",
    "    right = [r for r in requests if r > initial_position]\n",
    "    \n",
    "    # Seek time for the right side (move towards the right end, then wrap around to the left end)\n",
    "    seek_sequence = []\n",
    "    total_seek_time = 0\n",
    "    \n",
    "    # Handle the right side requests\n",
    "    for request in right:\n",
    "        seek_sequence.append(request)\n",
    "    total_seek_time += abs(initial_position - max(right))  # Move from initial position to the farthest request\n",
    "    \n",
    "    # After reaching the farthest right, the disk arm moves to the leftmost position (0)\n",
    "    total_seek_time += disk_size - 1  # Moving from the farthest right to the farthest left\n",
    "    \n",
    "    # Handle the left side requests after wrapping around\n",
    "    for request in left:\n",
    "        seek_sequence.append(request)\n",
    "    total_seek_time += max(left)  # Moving from leftmost position to the farthest request on the left\n",
    "    \n",
    "    return seek_sequence, total_seek_time\n"
   ]
  },
  {
   "cell_type": "code",
   "execution_count": null,
   "id": "3862f5a3",
   "metadata": {},
   "outputs": [],
   "source": []
  }
 ],
 "metadata": {
  "kernelspec": {
   "display_name": "Python 3",
   "language": "python",
   "name": "python3"
  },
  "language_info": {
   "codemirror_mode": {
    "name": "ipython",
    "version": 3
   },
   "file_extension": ".py",
   "mimetype": "text/x-python",
   "name": "python",
   "nbconvert_exporter": "python",
   "pygments_lexer": "ipython3",
   "version": "3.10.0"
  }
 },
 "nbformat": 4,
 "nbformat_minor": 5
}
