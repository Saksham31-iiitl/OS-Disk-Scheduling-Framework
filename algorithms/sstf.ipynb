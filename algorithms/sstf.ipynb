{
 "cells": [
  {
   "cell_type": "code",
   "execution_count": 1,
   "id": "8ebb04f8",
   "metadata": {},
   "outputs": [],
   "source": [
    "# sstf.ipynb\n",
    "\n",
    "def sstf(requests, initial_position):\n",
    "    requests = requests[:]\n",
    "    seek_sequence = []\n",
    "    total_seek_time = 0\n",
    "    current_position = initial_position\n",
    "\n",
    "    while requests:\n",
    "        distances = {request: abs(request - current_position) for request in requests}\n",
    "        closest_request = min(distances, key=distances.get)\n",
    "        seek_sequence.append(closest_request)\n",
    "        total_seek_time += distances[closest_request]\n",
    "        current_position = closest_request\n",
    "        requests.remove(closest_request)\n",
    "\n",
    "    seek_sequence.insert(0, initial_position)\n",
    "    return seek_sequence, total_seek_time\n",
    "\n"
   ]
  }
 ],
 "metadata": {
  "kernelspec": {
   "display_name": "Python 3",
   "language": "python",
   "name": "python3"
  },
  "language_info": {
   "codemirror_mode": {
    "name": "ipython",
    "version": 3
   },
   "file_extension": ".py",
   "mimetype": "text/x-python",
   "name": "python",
   "nbconvert_exporter": "python",
   "pygments_lexer": "ipython3",
   "version": "3.10.0"
  }
 },
 "nbformat": 4,
 "nbformat_minor": 5
}
