{
 "cells": [
  {
   "cell_type": "code",
   "execution_count": 2,
   "id": "227ac912",
   "metadata": {},
   "outputs": [],
   "source": [
    "# First-Come, First-Served (FCFS) Disk Scheduling Algorithm\n",
    "\n",
    "def fcfs(requests, initial_position):\n",
    "    \"\"\"\n",
    "    FCFS Disk Scheduling Algorithm\n",
    "    Parameters:\n",
    "        requests (list): List of disk I/O requests (positions).\n",
    "        initial_position (int): The starting position of the disk head.\n",
    "    \n",
    "    Returns:\n",
    "        tuple: (seek_sequence, total_seek_time)\n",
    "            - seek_sequence: List of disk positions in the order of processing.\n",
    "            - total_seek_time: Total time taken to process all the requests.\n",
    "    \"\"\"\n",
    "    seek_sequence = [initial_position]  # Start with the initial position\n",
    "    current_position = initial_position\n",
    "    total_seek_time = 0\n",
    "\n",
    "    # Process each request in the order they appear\n",
    "    for request in requests:\n",
    "        seek_sequence.append(request)\n",
    "        total_seek_time += abs(current_position - request)\n",
    "        current_position = request  # Update current position after processing the request\n",
    "\n",
    "    return seek_sequence, total_seek_time\n"
   ]
  },
  {
   "cell_type": "code",
   "execution_count": null,
   "id": "52a1722e",
   "metadata": {},
   "outputs": [],
   "source": []
  }
 ],
 "metadata": {
  "kernelspec": {
   "display_name": "Python 3",
   "language": "python",
   "name": "python3"
  },
  "language_info": {
   "codemirror_mode": {
    "name": "ipython",
    "version": 3
   },
   "file_extension": ".py",
   "mimetype": "text/x-python",
   "name": "python",
   "nbconvert_exporter": "python",
   "pygments_lexer": "ipython3",
   "version": "3.10.0"
  }
 },
 "nbformat": 4,
 "nbformat_minor": 5
}
